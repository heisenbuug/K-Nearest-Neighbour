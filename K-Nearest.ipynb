{
 "cells": [
  {
   "cell_type": "code",
   "execution_count": 1,
   "metadata": {},
   "outputs": [],
   "source": [
    "import numpy as np\n",
    "import pandas as pd\n",
    "from sortedcontainers import SortedList\n",
    "from datetime import datetime"
   ]
  },
  {
   "cell_type": "code",
   "execution_count": 2,
   "metadata": {},
   "outputs": [],
   "source": [
    "def getData(limit = None):\n",
    "    df = pd.read_csv(\"train.csv\")\n",
    "    data = df.values\n",
    "    np.random.shuffle(data) # To make order random at the time of sampling \n",
    "    X = data[:, 1:] / 255.0 # Scaled between 0-1\n",
    "    Y = data[:, 0]\n",
    "    if limit is not None:\n",
    "        X, Y = X[:limit], Y[:limit]\n",
    "    return X, Y"
   ]
  },
  {
   "cell_type": "code",
   "execution_count": 3,
   "metadata": {},
   "outputs": [],
   "source": [
    "class KNN(object):\n",
    "    def __init__(self, k):\n",
    "        self.k = k\n",
    "    \n",
    "    def fit(self, x, y):\n",
    "        self. x = x\n",
    "        self.y = y\n",
    "        \n",
    "    def predict(self, x):\n",
    "        y = np.zeros(len(x))\n",
    "        for i, x in enumerate(x):\n",
    "            sortedL = SortedList()\n",
    "            for j, xt in enumerate(self.x):\n",
    "                diff = x - xt\n",
    "                d = diff.dot(diff)\n",
    "                if len(sortedL) < self.k:\n",
    "                    sortedL.add((d, self.y[j]))\n",
    "                else:\n",
    "                    if d < sortedL[-1][0]:\n",
    "                        del sortedL[-1]\n",
    "                        sortedL.add((d, self.y[j]))\n",
    "            votes = {}\n",
    "            for _, v in sortedL:\n",
    "                votes[v] = votes.get(v, 0) + 1\n",
    "            maxVotes = 0\n",
    "            maxVotesClass = -1\n",
    "            for v, count in votes.items():\n",
    "                if count > maxVotes:\n",
    "                    maxVotes = count\n",
    "                    maxVotesClass = v\n",
    "            y[i] = maxVotesClass\n",
    "        return y\n",
    "    \n",
    "    def score(self, x, y):\n",
    "        p = self.predict(x)\n",
    "        return np.mean(p == y)"
   ]
  },
  {
   "cell_type": "code",
   "execution_count": 4,
   "metadata": {},
   "outputs": [
    {
     "name": "stdout",
     "output_type": "stream",
     "text": [
      "Training Time:  0:00:00\n",
      "Train accuracy: 1.0\n",
      "Time to compute train accuracy: 0:00:11.039639 Train size: 1000\n",
      "Training Time:  0:00:00\n",
      "Train accuracy: 1.0\n",
      "Time to compute train accuracy: 0:00:11.586502 Train size: 1000\n",
      "Training Time:  0:00:00\n",
      "Train accuracy: 0.958\n",
      "Time to compute train accuracy: 0:00:11.638996 Train size: 1000\n",
      "Training Time:  0:00:00\n",
      "Train accuracy: 0.956\n",
      "Time to compute train accuracy: 0:00:10.620457 Train size: 1000\n"
     ]
    }
   ],
   "source": [
    "x, y = getData(2000)\n",
    "nTrain = 1000\n",
    "trainScores = []\n",
    "testScores = []\n",
    "xTrain, yTrain = x[:nTrain], y[:nTrain]\n",
    "xTest, yTest = x[nTrain:], y[nTrain:]\n",
    "for k in range(1, 5):\n",
    "    knn = KNN(k)\n",
    "    t0 = datetime.now()\n",
    "    knn.fit(xTrain, yTrain)\n",
    "    print(\"Training Time: \", (datetime.now() - t0))\n",
    "    \n",
    "    t0 = datetime.now()\n",
    "    trainScore = knn.score(xTrain, yTrain)\n",
    "    trainScores.append(trainScore)\n",
    "    print(\"Train accuracy:\", trainScore)\n",
    "    print(\"Time to compute train accuracy:\", (datetime.now() - t0), \"Train size:\", len(yTrain))"
   ]
  },
  {
   "cell_type": "code",
   "execution_count": null,
   "metadata": {},
   "outputs": [],
   "source": []
  }
 ],
 "metadata": {
  "kernelspec": {
   "display_name": "Python 3",
   "language": "python",
   "name": "python3"
  },
  "language_info": {
   "codemirror_mode": {
    "name": "ipython",
    "version": 3
   },
   "file_extension": ".py",
   "mimetype": "text/x-python",
   "name": "python",
   "nbconvert_exporter": "python",
   "pygments_lexer": "ipython3",
   "version": "3.6.5"
  }
 },
 "nbformat": 4,
 "nbformat_minor": 2
}
